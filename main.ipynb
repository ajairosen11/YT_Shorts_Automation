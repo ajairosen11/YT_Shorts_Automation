{
 "cells": [
  {
   "cell_type": "code",
   "execution_count": 1,
   "metadata": {},
   "outputs": [],
   "source": [
    "from main import *"
   ]
  },
  {
   "cell_type": "code",
   "execution_count": 3,
   "metadata": {},
   "outputs": [
    {
     "data": {
      "text/plain": [
       "'There are more trees on Earth than stars in the Milky Way galaxy. According to a study published in the journal Nature, there are approximately 3.04 trillion trees on our planet. In comparison, scientists estimate that there are around 100 billion to 400 billion stars in the Milky Way. This means that there are at least 7.6 times more trees on Earth than stars in our galaxy.'"
      ]
     },
     "execution_count": 3,
     "metadata": {},
     "output_type": "execute_result"
    }
   ],
   "source": [
    "Content=chatresponse('Top 3 facts')\n",
    "df=pd.DataFrame(Content,columns=['Content'])\n",
    "text=df['Content'][2]\n",
    "text"
   ]
  },
  {
   "cell_type": "code",
   "execution_count": 4,
   "metadata": {},
   "outputs": [],
   "source": [
    "text_to_audio(text)"
   ]
  },
  {
   "cell_type": "code",
   "execution_count": 5,
   "metadata": {},
   "outputs": [
    {
     "name": "stdout",
     "output_type": "stream",
     "text": [
      "Moviepy - Building video video_with_audio.mp4.\n",
      "MoviePy - Writing audio in video_with_audioTEMP_MPY_wvf_snd.mp3\n"
     ]
    },
    {
     "name": "stderr",
     "output_type": "stream",
     "text": [
      "                                                                   \r"
     ]
    },
    {
     "name": "stdout",
     "output_type": "stream",
     "text": [
      "MoviePy - Done.\n",
      "Moviepy - Writing video video_with_audio.mp4\n",
      "\n"
     ]
    },
    {
     "name": "stderr",
     "output_type": "stream",
     "text": [
      "                                                              \r"
     ]
    },
    {
     "name": "stdout",
     "output_type": "stream",
     "text": [
      "Moviepy - Done !\n",
      "Moviepy - video ready video_with_audio.mp4\n"
     ]
    }
   ],
   "source": [
    "convert_mp3_to_wav(text_to_audio_file)\n",
    "video_file='sample_reels.mp4'\n",
    "audio_file='text_to_audio.wav'\n",
    "add_audio_and_subtitles(video_file,audio_file)"
   ]
  }
 ],
 "metadata": {
  "kernelspec": {
   "display_name": "sh_yt",
   "language": "python",
   "name": "python3"
  },
  "language_info": {
   "codemirror_mode": {
    "name": "ipython",
    "version": 3
   },
   "file_extension": ".py",
   "mimetype": "text/x-python",
   "name": "python",
   "nbconvert_exporter": "python",
   "pygments_lexer": "ipython3",
   "version": "3.11.4"
  },
  "orig_nbformat": 4
 },
 "nbformat": 4,
 "nbformat_minor": 2
}
